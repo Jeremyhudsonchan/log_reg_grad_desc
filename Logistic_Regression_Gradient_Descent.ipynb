{
 "cells": [
  {
   "cell_type": "code",
   "execution_count": 50,
   "metadata": {},
   "outputs": [],
   "source": [
    "import numpy as np\n",
    "from numpy.linalg import norm\n",
    "from sklearn.datasets import load_breast_cancer\n",
    "import math"
   ]
  },
  {
   "cell_type": "code",
   "execution_count": 51,
   "metadata": {},
   "outputs": [],
   "source": [
    "x,y=load_breast_cancer(return_X_y=True)\n",
    "N = x.shape[0]\n",
    "D = x.shape[1]\n",
    "x = np.c_[np.ones(N,),x]\n",
    "y = np.where(y==0,-1,y)"
   ]
  },
  {
   "cell_type": "code",
   "execution_count": 52,
   "metadata": {},
   "outputs": [],
   "source": [
    "def batch_grad(c,x,y,N):\n",
    "    return 1/N*sum(y[i]*x[i,:] / (1+math.exp(min(y[i]*x[i,:].dot(c),700))) for i in range(N))"
   ]
  },
  {
   "cell_type": "code",
   "execution_count": 53,
   "metadata": {},
   "outputs": [],
   "source": [
    "def check(cprev,c):\n",
    "    if norm(c-cprev)<10**(-5):\n",
    "        return True\n",
    "    else:\n",
    "        return False"
   ]
  },
  {
   "cell_type": "code",
   "execution_count": 54,
   "metadata": {},
   "outputs": [],
   "source": [
    "def in_sample_error(x,c):\n",
    "    yhat = np.sign(x.dot(c))\n",
    "    return 1-sum(yhat==y)/N"
   ]
  },
  {
   "cell_type": "code",
   "execution_count": 55,
   "metadata": {},
   "outputs": [],
   "source": [
    "def cross_entropy_error(x,c):\n",
    "    return -1/N*sum(math.log(1/(1+math.exp(-y[i]*x[i,:].dot(c)))) for i in range(N))"
   ]
  },
  {
   "cell_type": "code",
   "execution_count": 56,
   "metadata": {},
   "outputs": [],
   "source": [
    "def main():\n",
    "    lr=10**(-5)\n",
    "    # lr = 0.01\n",
    "    cprev=np.zeros((D+1,))\n",
    "    # print(cprev.shape)\n",
    "    c=0.01*np.random.normal(size=(D+1,))\n",
    "    # print(c.shape)\n",
    "    iters=0\n",
    "    while not check(cprev,c):\n",
    "        cprev=c.copy()\n",
    "        c+=lr*batch_grad(c,x,y,N)\n",
    "        iters+=1\n",
    "        if iters%100==0:\n",
    "            print(iters,norm(c-cprev))\n",
    "    print(iters)\n",
    "    \n",
    "    # In Sample Error\n",
    "    yhat = in_sample_error(x,c)\n",
    "    print(\"In Sample Error:\",yhat)\n",
    "    # Cross Entropy Error\n",
    "    yhat_2 = cross_entropy_error(x,c)\n",
    "    print(\"Cross Entropy Error:\",yhat_2)\n",
    "    \n",
    "    # Print the coefficients\n",
    "    print(\"Coefficients:\",c)\n"
   ]
  },
  {
   "cell_type": "code",
   "execution_count": 57,
   "metadata": {},
   "outputs": [
    {
     "name": "stdout",
     "output_type": "stream",
     "text": [
      "100 6.677273094178349e-05\n",
      "200 5.466666416725325e-05\n",
      "300 4.671172348441719e-05\n",
      "400 4.091398090805923e-05\n",
      "500 3.639650147263881e-05\n",
      "600 3.2596631330711e-05\n",
      "700 2.9167212786128765e-05\n",
      "800 2.6091768535498094e-05\n",
      "900 2.3494630232393653e-05\n",
      "1000 2.137618785156117e-05\n",
      "1100 1.9644500446116422e-05\n",
      "1200 1.8204838129440895e-05\n",
      "1300 1.698599241511482e-05\n",
      "1400 1.5937771224951065e-05\n",
      "1500 1.5024490742841223e-05\n",
      "1600 1.422009659949211e-05\n",
      "1700 1.3505047081487264e-05\n",
      "1800 1.2864349863398854e-05\n",
      "1900 1.2286290565976703e-05\n",
      "2000 1.1761577775486407e-05\n",
      "2100 1.1282747331600856e-05\n",
      "2200 1.084373488717843e-05\n",
      "2300 1.0439562120396716e-05\n",
      "2400 1.006610234537193e-05\n",
      "2419\n",
      "In Sample Error: 0.07908611599297011\n",
      "Cross Entropy Error: 0.22440359937150622\n"
     ]
    }
   ],
   "source": [
    "main()"
   ]
  }
 ],
 "metadata": {
  "kernelspec": {
   "display_name": "Python 3.10.7 64-bit",
   "language": "python",
   "name": "python3"
  },
  "language_info": {
   "codemirror_mode": {
    "name": "ipython",
    "version": 3
   },
   "file_extension": ".py",
   "mimetype": "text/x-python",
   "name": "python",
   "nbconvert_exporter": "python",
   "pygments_lexer": "ipython3",
   "version": "3.10.7"
  },
  "orig_nbformat": 4,
  "vscode": {
   "interpreter": {
    "hash": "aee8b7b246df8f9039afb4144a1f6fd8d2ca17a180786b69acc140d282b71a49"
   }
  }
 },
 "nbformat": 4,
 "nbformat_minor": 2
}
